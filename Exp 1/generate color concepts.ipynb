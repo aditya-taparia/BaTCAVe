{
 "cells": [
  {
   "cell_type": "code",
   "execution_count": 1,
   "metadata": {},
   "outputs": [],
   "source": [
    "import random\n",
    "from PIL import Image\n",
    "import os"
   ]
  },
  {
   "cell_type": "code",
   "execution_count": 3,
   "metadata": {},
   "outputs": [],
   "source": [
    "def random_light_color():\n",
    "    return (random.randint(200, 255), random.randint(200, 255), random.randint(200, 255))\n",
    "\n",
    "def random_dark_color():\n",
    "    return (random.randint(0, 100), random.randint(0, 100), random.randint(0, 100))\n",
    "\n",
    "def random_color():\n",
    "    return (random.randint(0, 255), random.randint(0, 255), random.randint(0, 255))\n",
    "\n",
    "def random_orangish_color():\n",
    "    return (random.randint(200, 255), random.randint(100, 170), random.randint(0, 50))"
   ]
  },
  {
   "cell_type": "code",
   "execution_count": 3,
   "metadata": {},
   "outputs": [],
   "source": [
    "os.makedirs('concepts/light', exist_ok=True)\n",
    "os.makedirs('concepts/dark', exist_ok=True)\n",
    "os.makedirs('concepts/random', exist_ok=True)\n",
    "os.makedirs('concepts/orange', exist_ok=True)"
   ]
  },
  {
   "cell_type": "code",
   "execution_count": 6,
   "metadata": {},
   "outputs": [],
   "source": [
    "width, height = 224, 224\n",
    "\n",
    "for i in range(100):\n",
    "    light_color = random_light_color()\n",
    "    light_image = Image.new(\"RGB\", (width, height), light_color)\n",
    "    light_image.save(\"concepts/light/light_image_{}.png\".format(i+1))\n",
    "\n",
    "    dark_color = random_dark_color()\n",
    "    dark_image = Image.new(\"RGB\", (width, height), dark_color)\n",
    "    dark_image.save(\"concepts/dark/dark_image_{}.png\".format(i+1))"
   ]
  },
  {
   "cell_type": "code",
   "execution_count": 4,
   "metadata": {},
   "outputs": [],
   "source": [
    "width, height = 224, 224\n",
    "for i in range(100):\n",
    "    image = Image.new(\"RGB\", (width, height))\n",
    "\n",
    "    for x in range(width):\n",
    "        for y in range(height):\n",
    "            image.putpixel((x, y), random_color())\n",
    "\n",
    "    image.save(\"concepts/random/random_image_{}.png\".format(i+1))"
   ]
  },
  {
   "cell_type": "code",
   "execution_count": 5,
   "metadata": {},
   "outputs": [],
   "source": [
    "width, height = 224, 224\n",
    "\n",
    "for i in range(100):\n",
    "    orange_color = random_orangish_color()\n",
    "    orange_image = Image.new(\"RGB\", (width, height), orange_color)\n",
    "    orange_image.save(\"concepts/orange/orange_image_{}.png\".format(i+1))"
   ]
  }
 ],
 "metadata": {
  "kernelspec": {
   "display_name": ".venv",
   "language": "python",
   "name": "python3"
  },
  "language_info": {
   "codemirror_mode": {
    "name": "ipython",
    "version": 3
   },
   "file_extension": ".py",
   "mimetype": "text/x-python",
   "name": "python",
   "nbconvert_exporter": "python",
   "pygments_lexer": "ipython3",
   "version": "3.12.3"
  }
 },
 "nbformat": 4,
 "nbformat_minor": 2
}
